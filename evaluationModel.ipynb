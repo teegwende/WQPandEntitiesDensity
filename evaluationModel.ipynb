{
  "cells": [
    {
      "cell_type": "markdown",
      "metadata": {
        "id": "view-in-github",
        "colab_type": "text"
      },
      "source": [
        "<a href=\"https://colab.research.google.com/github/teegwende/WQPandEntitiesDensity/blob/main/evaluationModel.ipynb\" target=\"_parent\"><img src=\"https://colab.research.google.com/assets/colab-badge.svg\" alt=\"Open In Colab\"/></a>"
      ]
    },
    {
      "cell_type": "code",
      "execution_count": 61,
      "metadata": {
        "id": "XLL5F6cXp6Hz",
        "colab": {
          "base_uri": "https://localhost:8080/"
        },
        "outputId": "bd5a3286-81a5-468b-e80b-faecf0659b34"
      },
      "outputs": [
        {
          "output_type": "stream",
          "name": "stdout",
          "text": [
            "Drive already mounted at /gdrive; to attempt to forcibly remount, call drive.mount(\"/gdrive\", force_remount=True).\n"
          ]
        }
      ],
      "source": [
        "from google.colab import drive\n",
        "drive.mount('/gdrive')"
      ]
    },
    {
      "cell_type": "code",
      "execution_count": 76,
      "metadata": {
        "colab": {
          "base_uri": "https://localhost:8080/"
        },
        "id": "8Me9CtscpzXY",
        "outputId": "f3c616bd-10e9-43e4-eab5-1286116ddfb1"
      },
      "outputs": [
        {
          "name": "stdout",
          "output_type": "stream",
          "text": [
            "1-jeu Panamasso 2-UCAD 3-Compaore3\n"
          ]
        }
      ],
      "source": [
        "from pandas import read_csv, DataFrame\n",
        "import pandas as pd\n",
        "pd.set_option('display.float_format', '{:.3f}'.format)\n",
        "\n",
        "\n",
        "######################################################## CHOIX DATASET #############################################################\n",
        "jeu_donnees=int(input('1-jeu Panamasso 2-UCAD 3-Compaore'))\n",
        "if jeu_donnees==1:\n",
        "    df = read_csv('/gdrive/MyDrive/traitement_ordinaire/datarep/feed_new.csv', index_col='DATE', parse_dates=True)\n",
        "    df=df.drop(columns=['entry_id','latitude','longitude','elevation','status'])\n",
        "if jeu_donnees==2:\n",
        "    df = read_csv('/gdrive/MyDrive/traitement_ordinaire/datarep/data_ucad.csv', index_col='DATE', parse_dates=True)\n",
        "\n",
        "if jeu_donnees==3:\n",
        "    df = read_csv('/gdrive/MyDrive/traitement_ordinaire/datarep/etude_de_compaore2 .csv', index_col='DATE', parse_dates=True)\n",
        "    #df=df.drop(columns=['entry_id','latitude','longitude','elevation','status'])\n",
        "\n",
        "######################################################\"PREPROCESSING##################################################################\n",
        "##########################################ELIMINATION VALEURS ABERRANTES##############################################################\n",
        "#évaluation des plages des valeurs \n",
        "plage = {\"PH\":[0,14],\n",
        "        \"TEMP\":[0,60]}\n",
        "#dataparams = list()\n",
        "dataparams={}  # Noter que l'algo est de créer un dico avec comme clé chaque param\n",
        "for col in df.columns:\n",
        "    if not plage.get(col)==None:\n",
        "        sub=df.loc[ ~ (  (df[col]<=plage.get(col)[0])  | (df[col]>=plage.get(col)[1]) ) ][col]\n",
        "        dataparams[col]=sub\n",
        "\n",
        "\n",
        "####################################################DIFFRENTES FONCTIONS#########################################################\n",
        "###############################################FONCTION IMPUTATION##############################################################\n",
        "import numpy as np\n",
        "import math \n",
        "from pandas import concat\n",
        "\n",
        "def imputation(ledataframe):\n",
        "    params=[\"PH\",\"TEMP\"]\n",
        "    cols=list()\n",
        "    for param in params:\n",
        "        data=dataparams.get(param).resample('D').mean()\n",
        "        i=0\n",
        "        j=0\n",
        "        for index, row in data.items():   \n",
        "            if(i==data.size):\n",
        "                break\n",
        "            if math.isnan(data.iloc[i]):\n",
        "                val1=data.iloc[i-1] #On stocke la premiere valeur de calcul de la moyenne\n",
        "                j=i\n",
        "                while math.isnan(data.iloc[j]): #on saute toutes les autres valeurs nan\n",
        "                    j=j+1\n",
        "                val2=data.iloc[j]\n",
        "                k=i\n",
        "                while k<j: #on remonte pour remplacer les valeurs nan par la moyenne\n",
        "                    data.iloc[k]=(val1+val2)/2\n",
        "                    k=k+1\n",
        "                i=j #i redevient j pour qu'on continue avec les valeurs suivantes\n",
        "            else:\n",
        "                i=i+1\n",
        "        cols.append(data)\n",
        "    agg=concat(cols,axis=1)\n",
        "    agg.columns=params\n",
        "    return agg\n",
        "  \n",
        "\n",
        "###############################################FONCTION DIVISION DES DONNEES###########################################################\n",
        "def diviserdata(periode,donnees):\n",
        "  train,test=donnees.loc[donnees.index < periode],donnees.loc[donnees.index> periode]\n",
        "  return train,test\n",
        "\n",
        "train_PersoImput, test_PersoImput=diviserdata(\"06-2017\",imputation(pd.DataFrame(dataparams).resample('D').mean()))\n",
        "#train_PersoImput.loc[train_PersoImput.index == '01-2019'\n",
        "#train_PersoImput.loc['01-2019'].head(2)"
      ]
    },
    {
      "cell_type": "code",
      "execution_count": 116,
      "metadata": {
        "id": "wkHankBOpzXg"
      },
      "outputs": [],
      "source": [
        "###############################################DIFFRENTES FONCTIONS SUITE########################################################\n",
        "###############################################FONCTION NORMALISATION############################################################\n",
        "\n",
        "from sklearn.preprocessing import MinMaxScaler, StandardScaler, RobustScaler\n",
        "scaler = MinMaxScaler(feature_range=(0, 1)) # instance de la classe MinMaxScaler\n",
        "#scaler = StandardScaler() # instance de la classe MinMaxScaler\n",
        "#scaler = RobustScaler() # instance de la classe MinMaxScaler\n",
        "#Normalization process\n",
        "def normaliser(donnees):\n",
        "    resultat = scaler.fit_transform(donnees) #transformation du dataset via une méthode de l'instance de MinMaxScaler\n",
        "    #test_temp = scaler.fit_transform(test_temp)\n",
        "    return resultat\n",
        "\n",
        "########################################FONCTION TRANSFORMATION FORMAT SUPERVISE#################################################\n",
        "#Préparation des données à entrainer\n",
        "#Transformation des series temporelles en jeu de donnees supervisee \n",
        "#times series vers cross-sectional data (c'est un peu les termes techniques)\n",
        "from pandas import concat\n",
        "def preparationData(donnees, nbValPrec=1, nbValSuiv=1,dropnan=True):\n",
        "    #params=[\"ind0\",\"ind1\",\"DATE\",\"PH\",\"TEMP\"]\n",
        "    params=[\"DATE\",\"PH\",\"TEMP\"]\n",
        "    #params=[\"PH\",\"TEMP\"]\n",
        "    n_vars = 1 if type(donnees) is list else donnees.shape[1]\n",
        "    df = DataFrame(donnees)\n",
        "    newdf=df.reset_index(drop=False)\n",
        "    #print(newdf)\n",
        "    cols, names = list(), list()\n",
        "    #Les valeurs précédentes à considérer\n",
        "    for i in range(nbValPrec, 0, -1):\n",
        "        cols.append(newdf.shift(i))\n",
        "        #param='TEMP'\n",
        "        #names += [('temp%d(t-%d)' % (j+1, i)) for j in range(n_vars)]\n",
        "        names += [(param+'(t-%d)' % (i)) for param in params ]\n",
        "    #La longueur de prédiction\n",
        "    for i in range(0, nbValSuiv):\n",
        "        cols.append(newdf.shift(-i))\n",
        "        if i == 0:\n",
        "            #names += [('temp%d(t)' % (j+1)) for j in range(n_vars)]\n",
        "            names += [(param+'(t)') for param in params ]\n",
        "        else:\n",
        "            #names += [('temp%d(t+%d)' % (j+1, i)) for j in range(n_vars)]\n",
        "            names += [(param+'(t+%d)' % (i)) for param in params ]\n",
        "    #Le dataset final\n",
        "    agg = concat(cols, axis=1)\n",
        "    agg.columns = names\n",
        "    # drop rows with NaN values\n",
        "    if dropnan:\n",
        "        agg.dropna(inplace=True)\n",
        "    return agg\n",
        "\n",
        "###############################################FONCTION COMPELTION DATA COEF WAVELET##########################################################\n",
        "#Algo pour compléter un nombre pour obtenir le multiple de son diviseur\n",
        "#Récupérer le reste de la division\n",
        "#Soustraire le reste du coeficient\n",
        "#additionner le resultat de la soustraction au nombre initial\n",
        "# Import math Library\n",
        "import math \n",
        "def completerData(donnees):\n",
        "    level=3\n",
        "    nombredezeros= int(math.pow(2,level))- ( len(donnees) % int(math.pow(2,level))   )\n",
        "    pad_arr = np.pad(donnees, (0,nombredezeros), 'constant', constant_values=(0))\n",
        "    return pad_arr\n",
        "\n",
        "###############################################FONCTION FORMATION DATASET POUR WANN ##########################################################\n",
        "#Elabaration du newinput\n",
        "import pywt\n",
        "from pandas import concat\n",
        "def createnewinput(donnees,wavelet,level):\n",
        "    newinput=list()\n",
        "    for i in range(donnees.shape[1]):\n",
        "        newdf=completerData(donnees[:, i]) #il complète le nombre de zéros nécessaires\n",
        "        #coefswt=pywt.swt(newdf,'haar',level=3,norm=True,axis=0) #ici il calcule les coefficients\n",
        "        coefswt=pywt.swt(newdf,wavelet,level=level,norm=True,axis=0) #ici il calcule les coefficients\n",
        "        newinput.append(pd.Series(coefswt[0][0]))\n",
        "        for coef in coefswt:\n",
        "            newinput.append(pd.Series(coef[1]))\n",
        "    agg=concat(newinput,axis=1)\n",
        "    return agg\n",
        "\n",
        "import keras\n",
        "from keras.layers import Dense,Activation,Flatten\n",
        "from keras.models import Sequential\n",
        "\n",
        "from matplotlib.dates import DateFormatter\n",
        "import matplotlib.dates as mdates\n",
        "import matplotlib.pyplot as plt\n",
        "\n",
        "##############################################FONCTIONS DE VISUALISATION DES RESULTATS #############################################\"\"\n",
        "def visualPrediction(param,periode,donneestest,donneesPredite,nb_obs,horizon,nbrefois,directory):\n",
        "  interval=1\n",
        "  fig, ax = plt.subplots(figsize=(15, 6))\n",
        "  ax.plot(pd.to_datetime(periode),donneestest,'o-',label='Donnees Test')\n",
        "  \n",
        "  for v,p in zip(donneestest,periode):\n",
        "    if interval==30 or interval==60 or interval==84:\n",
        "      ax.annotate(round(v,2),xy=(p,v),fontsize=10)\n",
        "    interval=interval+1\n",
        "\n",
        "  ax.plot(pd.to_datetime(periode),donneesPredite,'o-',label='Donnes Predites')\n",
        "\n",
        "  interval=1\n",
        "\n",
        "  for v,p in zip(donneesPredite,periode):\n",
        "    if interval==30 or interval==60 or interval==84:\n",
        "      ax.annotate(round(v,2),xy=(p,v),fontsize=10)\n",
        "    interval=interval+1\n",
        "\n",
        "  ax.set(xlabel=\"Date\", ylabel=param,\n",
        "       title=\"WANN\"+\" \"+param+\" Lag\"+str(nb_obs)+\" Horizon=\"+str(horizon))\n",
        "  ax.legend()\n",
        "\n",
        "  # Format the x axis\n",
        "  ax.xaxis.set_major_locator(mdates.DayLocator(interval=30))\n",
        "  #ax.xaxis.set_major_locator(mdates.DayLocator(30))\n",
        "  #ax.xaxis.set_major_locator(mdates.MonthLocator())\n",
        "  ax.xaxis.set_major_formatter(DateFormatter(\"%Y-%m-%d\"))\n",
        "  plt.xticks(rotation=45, ha='right',fontsize=14)\n",
        "  #plt.xlim(periode[0],periode[20])\n",
        "  plt.savefig(directory+\"WANN\"+'_'+str(nb_obs)+'_'+str(horizon)+'_Nb'+str(nbrefois)+param+'.pdf')\n",
        "\n",
        "  plt.show()\n",
        "  plt.close()\n",
        "\n",
        "####Noter que dans cette fonction, on peut juste retenir la dernière colonne de l'horizon recherché\n",
        "###Tout comme on peut plotter toutes les valeurs prédites de depuis parm (t) jusqu'à parm(t-+horzion-1)\n",
        "def visualCalibrationPlot(param,donneestest,donneesPredite,nbrefois,directory,periode):\n",
        " \n",
        "  plt.figure(figsize=(15,6))\n",
        "  #plt.plot(donneestest[-len(periode):],donneestest[-len(periode):],c='black')\n",
        "  #plt.scatter(donneestest[-len(periode):],donneesPredite[-len(periode):],c='blue',alpha=0.6)\n",
        "  plt.plot(donneestest,donneestest,c='black')\n",
        "  plt.scatter(donneestest,donneesPredite,c='blue',alpha=0.6)\n",
        "  plt.xlabel(param+\" Attendue\")\n",
        "  plt.ylabel(param+\" Prédite\")\n",
        "  plt.savefig(directory+\"WANN\"+'_'+str(nb_obs)+'_'+str(horizon)+'_Nb'+str(nbrefois)+param+'.pdf')\n",
        "  plt.show()\n",
        "  plt.legend(loc=0)\n",
        "  plt.close()"
      ]
    },
    {
      "cell_type": "code",
      "source": [
        "mesdata=preparationData(train_PersoImput,10,84)\n",
        "mesdata.loc[:,mesdata.columns.str.contains(\"DATE\\(t\\-|DATE\\(t\\)\")].loc[214:214:,]\n",
        "#mesdata.loc[53:53,]"
      ],
      "metadata": {
        "colab": {
          "base_uri": "https://localhost:8080/",
          "height": 81
        },
        "id": "s_bVZ4YToRi6",
        "outputId": "f2e585a7-bf32-4419-ffab-78eddb418184"
      },
      "execution_count": 117,
      "outputs": [
        {
          "output_type": "execute_result",
          "data": {
            "text/plain": [
              "    DATE(t-10)  DATE(t-9)  DATE(t-8)  DATE(t-7)  DATE(t-6)  DATE(t-5)  \\\n",
              "214 2016-12-22 2016-12-23 2016-12-24 2016-12-25 2016-12-26 2016-12-27   \n",
              "\n",
              "     DATE(t-4)  DATE(t-3)  DATE(t-2)  DATE(t-1)    DATE(t)  \n",
              "214 2016-12-28 2016-12-29 2016-12-30 2016-12-31 2017-01-01  "
            ],
            "text/html": [
              "\n",
              "  <div id=\"df-50f97ed0-11a3-42e9-8356-453f1a6d94ca\">\n",
              "    <div class=\"colab-df-container\">\n",
              "      <div>\n",
              "<style scoped>\n",
              "    .dataframe tbody tr th:only-of-type {\n",
              "        vertical-align: middle;\n",
              "    }\n",
              "\n",
              "    .dataframe tbody tr th {\n",
              "        vertical-align: top;\n",
              "    }\n",
              "\n",
              "    .dataframe thead th {\n",
              "        text-align: right;\n",
              "    }\n",
              "</style>\n",
              "<table border=\"1\" class=\"dataframe\">\n",
              "  <thead>\n",
              "    <tr style=\"text-align: right;\">\n",
              "      <th></th>\n",
              "      <th>DATE(t-10)</th>\n",
              "      <th>DATE(t-9)</th>\n",
              "      <th>DATE(t-8)</th>\n",
              "      <th>DATE(t-7)</th>\n",
              "      <th>DATE(t-6)</th>\n",
              "      <th>DATE(t-5)</th>\n",
              "      <th>DATE(t-4)</th>\n",
              "      <th>DATE(t-3)</th>\n",
              "      <th>DATE(t-2)</th>\n",
              "      <th>DATE(t-1)</th>\n",
              "      <th>DATE(t)</th>\n",
              "    </tr>\n",
              "  </thead>\n",
              "  <tbody>\n",
              "    <tr>\n",
              "      <th>214</th>\n",
              "      <td>2016-12-22</td>\n",
              "      <td>2016-12-23</td>\n",
              "      <td>2016-12-24</td>\n",
              "      <td>2016-12-25</td>\n",
              "      <td>2016-12-26</td>\n",
              "      <td>2016-12-27</td>\n",
              "      <td>2016-12-28</td>\n",
              "      <td>2016-12-29</td>\n",
              "      <td>2016-12-30</td>\n",
              "      <td>2016-12-31</td>\n",
              "      <td>2017-01-01</td>\n",
              "    </tr>\n",
              "  </tbody>\n",
              "</table>\n",
              "</div>\n",
              "      <button class=\"colab-df-convert\" onclick=\"convertToInteractive('df-50f97ed0-11a3-42e9-8356-453f1a6d94ca')\"\n",
              "              title=\"Convert this dataframe to an interactive table.\"\n",
              "              style=\"display:none;\">\n",
              "        \n",
              "  <svg xmlns=\"http://www.w3.org/2000/svg\" height=\"24px\"viewBox=\"0 0 24 24\"\n",
              "       width=\"24px\">\n",
              "    <path d=\"M0 0h24v24H0V0z\" fill=\"none\"/>\n",
              "    <path d=\"M18.56 5.44l.94 2.06.94-2.06 2.06-.94-2.06-.94-.94-2.06-.94 2.06-2.06.94zm-11 1L8.5 8.5l.94-2.06 2.06-.94-2.06-.94L8.5 2.5l-.94 2.06-2.06.94zm10 10l.94 2.06.94-2.06 2.06-.94-2.06-.94-.94-2.06-.94 2.06-2.06.94z\"/><path d=\"M17.41 7.96l-1.37-1.37c-.4-.4-.92-.59-1.43-.59-.52 0-1.04.2-1.43.59L10.3 9.45l-7.72 7.72c-.78.78-.78 2.05 0 2.83L4 21.41c.39.39.9.59 1.41.59.51 0 1.02-.2 1.41-.59l7.78-7.78 2.81-2.81c.8-.78.8-2.07 0-2.86zM5.41 20L4 18.59l7.72-7.72 1.47 1.35L5.41 20z\"/>\n",
              "  </svg>\n",
              "      </button>\n",
              "      \n",
              "  <style>\n",
              "    .colab-df-container {\n",
              "      display:flex;\n",
              "      flex-wrap:wrap;\n",
              "      gap: 12px;\n",
              "    }\n",
              "\n",
              "    .colab-df-convert {\n",
              "      background-color: #E8F0FE;\n",
              "      border: none;\n",
              "      border-radius: 50%;\n",
              "      cursor: pointer;\n",
              "      display: none;\n",
              "      fill: #1967D2;\n",
              "      height: 32px;\n",
              "      padding: 0 0 0 0;\n",
              "      width: 32px;\n",
              "    }\n",
              "\n",
              "    .colab-df-convert:hover {\n",
              "      background-color: #E2EBFA;\n",
              "      box-shadow: 0px 1px 2px rgba(60, 64, 67, 0.3), 0px 1px 3px 1px rgba(60, 64, 67, 0.15);\n",
              "      fill: #174EA6;\n",
              "    }\n",
              "\n",
              "    [theme=dark] .colab-df-convert {\n",
              "      background-color: #3B4455;\n",
              "      fill: #D2E3FC;\n",
              "    }\n",
              "\n",
              "    [theme=dark] .colab-df-convert:hover {\n",
              "      background-color: #434B5C;\n",
              "      box-shadow: 0px 1px 3px 1px rgba(0, 0, 0, 0.15);\n",
              "      filter: drop-shadow(0px 1px 2px rgba(0, 0, 0, 0.3));\n",
              "      fill: #FFFFFF;\n",
              "    }\n",
              "  </style>\n",
              "\n",
              "      <script>\n",
              "        const buttonEl =\n",
              "          document.querySelector('#df-50f97ed0-11a3-42e9-8356-453f1a6d94ca button.colab-df-convert');\n",
              "        buttonEl.style.display =\n",
              "          google.colab.kernel.accessAllowed ? 'block' : 'none';\n",
              "\n",
              "        async function convertToInteractive(key) {\n",
              "          const element = document.querySelector('#df-50f97ed0-11a3-42e9-8356-453f1a6d94ca');\n",
              "          const dataTable =\n",
              "            await google.colab.kernel.invokeFunction('convertToInteractive',\n",
              "                                                     [key], {});\n",
              "          if (!dataTable) return;\n",
              "\n",
              "          const docLinkHtml = 'Like what you see? Visit the ' +\n",
              "            '<a target=\"_blank\" href=https://colab.research.google.com/notebooks/data_table.ipynb>data table notebook</a>'\n",
              "            + ' to learn more about interactive tables.';\n",
              "          element.innerHTML = '';\n",
              "          dataTable['output_type'] = 'display_data';\n",
              "          await google.colab.output.renderOutput(dataTable, element);\n",
              "          const docLink = document.createElement('div');\n",
              "          docLink.innerHTML = docLinkHtml;\n",
              "          element.appendChild(docLink);\n",
              "        }\n",
              "      </script>\n",
              "    </div>\n",
              "  </div>\n",
              "  "
            ]
          },
          "metadata": {},
          "execution_count": 117
        }
      ]
    },
    {
      "cell_type": "code",
      "source": [
        "donnees_train=train_PersoImput \n",
        "donnees_test=test_PersoImput\n",
        "nb_obs=10\n",
        "horizon=84\n",
        "n_features=2\n",
        "\n",
        "wavelet=\"haar\"\n",
        "level=3\n",
        "\n",
        "train=preparationData(donnees_train,nb_obs,horizon)\n",
        "\n",
        "train_dates=train.loc[:, train.columns.str.contains(\"DATE\\(t\\+|DATE\\(t\\)\")]\n",
        "train=train.loc[:,~train.columns.str.contains(\"DATE\")]\n",
        "\n",
        "#ligne=273 #Correspond aux 10 derniers jours du mois de février donc saison froide\n",
        "ligne= 214# Correspond aux 10 derniers jours de décembre, donc saison froide. Mieux adapté car la période de collecte était Décembre. \n",
        "          # Les prédictions doivent nous conduire vers le mois de janvier février Mars. C'est Mars qui nous intéresse (correspond à la période chaude)\n",
        "test2=train.loc[ligne:ligne:,]\n",
        "test_dates2=train_dates.loc[ligne:ligne:,]\n",
        "\n",
        "print(\"dates =\",test_dates2)\n",
        "#Subdivision en X et y\n",
        "\n",
        "X_test2,y_test2 = test2.iloc[:,:nb_obs*n_features].values,test2.iloc[:, -horizon*n_features:].values\n",
        "print(\"X_test2\",X_test2)\n",
        "\n",
        "\n",
        "X_test2=normaliser(X_test2)\n",
        "y_test2=normaliser(y_test2)\n",
        "\n",
        "\n",
        "print(\"X_test2 normaliser\",X_test2)\n",
        "X_test2=createnewinput(X_test2,wavelet,level)\n",
        "X_test2=X_test2.values\n",
        "\n",
        "print(\"y_test2\",y_test2)"
      ],
      "metadata": {
        "colab": {
          "base_uri": "https://localhost:8080/"
        },
        "id": "G4S3o4etIbfl",
        "outputId": "136d1336-c110-41a8-ff17-e38d5e1a6857"
      },
      "execution_count": 118,
      "outputs": [
        {
          "output_type": "stream",
          "name": "stdout",
          "text": [
            "dates =        DATE(t)  DATE(t+1)  DATE(t+2)  DATE(t+3)  DATE(t+4)  DATE(t+5)  \\\n",
            "214 2017-01-01 2017-01-02 2017-01-03 2017-01-04 2017-01-05 2017-01-06   \n",
            "\n",
            "     DATE(t+6)  DATE(t+7)  DATE(t+8)  DATE(t+9)  ... DATE(t+74) DATE(t+75)  \\\n",
            "214 2017-01-07 2017-01-08 2017-01-09 2017-01-10  ... 2017-03-16 2017-03-17   \n",
            "\n",
            "    DATE(t+76) DATE(t+77) DATE(t+78) DATE(t+79) DATE(t+80) DATE(t+81)  \\\n",
            "214 2017-03-18 2017-03-19 2017-03-20 2017-03-21 2017-03-22 2017-03-23   \n",
            "\n",
            "    DATE(t+82) DATE(t+83)  \n",
            "214 2017-03-24 2017-03-25  \n",
            "\n",
            "[1 rows x 84 columns]\n",
            "X_test2 [[ 7. 24.  7. 24.  7. 24.  7. 24.  7. 24.  7. 24.  7. 24.  7. 24.  7. 24.\n",
            "   7. 24.]]\n",
            "X_test2 normaliser [[0. 0. 0. 0. 0. 0. 0. 0. 0. 0. 0. 0. 0. 0. 0. 0. 0. 0. 0. 0.]]\n",
            "y_test2 [[0. 0. 0. 0. 0. 0. 0. 0. 0. 0. 0. 0. 0. 0. 0. 0. 0. 0. 0. 0. 0. 0. 0. 0.\n",
            "  0. 0. 0. 0. 0. 0. 0. 0. 0. 0. 0. 0. 0. 0. 0. 0. 0. 0. 0. 0. 0. 0. 0. 0.\n",
            "  0. 0. 0. 0. 0. 0. 0. 0. 0. 0. 0. 0. 0. 0. 0. 0. 0. 0. 0. 0. 0. 0. 0. 0.\n",
            "  0. 0. 0. 0. 0. 0. 0. 0. 0. 0. 0. 0. 0. 0. 0. 0. 0. 0. 0. 0. 0. 0. 0. 0.\n",
            "  0. 0. 0. 0. 0. 0. 0. 0. 0. 0. 0. 0. 0. 0. 0. 0. 0. 0. 0. 0. 0. 0. 0. 0.\n",
            "  0. 0. 0. 0. 0. 0. 0. 0. 0. 0. 0. 0. 0. 0. 0. 0. 0. 0. 0. 0. 0. 0. 0. 0.\n",
            "  0. 0. 0. 0. 0. 0. 0. 0. 0. 0. 0. 0. 0. 0. 0. 0. 0. 0. 0. 0. 0. 0. 0. 0.]]\n"
          ]
        }
      ]
    },
    {
      "cell_type": "code",
      "source": [
        "#cheminmodel='21_Jun_2022_11_30/WANN_nbObs2_H1/\n",
        "#cheminmodel='22_Jun_2022_23_02/WANN_nbObs4_H7/'\n",
        "#cheminmodel='23_Jun_2022_10_50/WANN_nbObs4_H14/'\n",
        "# cheminmodel='23_Jun_2022_12_06/WANN_nbObs4_H28/'\n",
        "#cheminmodel='23_Jun_2022_12_37/WANN_nbObs4_H84/'\n",
        "cheminmodel='07_Jul_2022_13_05/WANN_nbObs10_H84/'\n",
        "model = keras.models.load_model('/gdrive/MyDrive/traitement_ordinaire/'+cheminmodel)\n",
        "predictions=model.predict(X_test2[:len(y_test2)])"
      ],
      "metadata": {
        "id": "Sg90Vi_yCIry"
      },
      "execution_count": 119,
      "outputs": []
    },
    {
      "cell_type": "code",
      "source": [
        "predictions"
      ],
      "metadata": {
        "colab": {
          "base_uri": "https://localhost:8080/"
        },
        "id": "jgwQ49oNMLkT",
        "outputId": "a7627a76-d01d-4e33-f871-b8702276d6e5"
      },
      "execution_count": 120,
      "outputs": [
        {
          "output_type": "execute_result",
          "data": {
            "text/plain": [
              "array([[ 0.10888247, -0.00423779,  0.11091255,  0.03831513,  0.1984414 ,\n",
              "         0.02336251,  0.17376728,  0.00353657,  0.20144808,  0.02067382,\n",
              "         0.18445164, -0.03461551,  0.16302273,  0.00517029,  0.19250178,\n",
              "        -0.02922228,  0.1863093 ,  0.011007  ,  0.19212039,  0.01206988,\n",
              "         0.17236017, -0.00471238,  0.24957936, -0.01579834,  0.20483927,\n",
              "         0.01468447,  0.24669425,  0.01257508,  0.19888276, -0.02445809,\n",
              "         0.22284858,  0.03361918,  0.28243354, -0.03823106,  0.24228081,\n",
              "        -0.02176744,  0.24303114,  0.02055529,  0.27724278, -0.01552059,\n",
              "         0.27303228, -0.07054346,  0.23276222, -0.01409501,  0.30007428,\n",
              "        -0.00234521,  0.26472148, -0.04494117,  0.2647925 , -0.01093367,\n",
              "         0.25691366, -0.05840804,  0.2411066 , -0.02938756,  0.29191676,\n",
              "        -0.02355933,  0.26564404, -0.03607548,  0.27215558, -0.01718493,\n",
              "         0.29801497,  0.00208355,  0.3033285 , -0.03532369,  0.28981313,\n",
              "        -0.04518551,  0.2928813 ,  0.01171728,  0.2864997 , -0.06200707,\n",
              "         0.25468266, -0.01049612,  0.30522183, -0.01921298,  0.3170555 ,\n",
              "        -0.00842648,  0.32344952, -0.04132051,  0.31686088, -0.03920197,\n",
              "         0.3353786 , -0.03764874,  0.33189303, -0.05263758,  0.36222485,\n",
              "        -0.00255548,  0.2690314 , -0.01436623,  0.32647118,  0.03515751,\n",
              "         0.34242532,  0.00157614,  0.30905566, -0.01708799,  0.34314135,\n",
              "         0.00275011,  0.3542506 , -0.04206588,  0.24954551, -0.05696267,\n",
              "         0.3323552 ,  0.00738633,  0.2718404 ,  0.01073309,  0.41149426,\n",
              "         0.01296467,  0.3935009 ,  0.0372315 ,  0.43514055,  0.04907453,\n",
              "         0.37089083,  0.03051013,  0.33576688,  0.01367681,  0.3439473 ,\n",
              "         0.0534141 ,  0.39905053,  0.0055677 ,  0.49037743,  0.05532651,\n",
              "         0.45350772,  0.04430108,  0.3296171 ,  0.02253963,  0.41129708,\n",
              "         0.06523921,  0.42346182,  0.09848022,  0.44786853,  0.03661451,\n",
              "         0.3656904 ,  0.08404699,  0.45886025,  0.01973344,  0.43212563,\n",
              "         0.0201389 ,  0.43650636,  0.09189889,  0.43978608,  0.05713373,\n",
              "         0.31504098,  0.1044661 ,  0.43751904,  0.09203269,  0.50597906,\n",
              "         0.107985  ,  0.3834023 ,  0.13251626,  0.48056275,  0.14155602,\n",
              "         0.41124994,  0.10071496,  0.54339683,  0.13201112,  0.4408542 ,\n",
              "         0.11255707,  0.5572793 ,  0.08522328,  0.4831277 ,  0.08660933,\n",
              "         0.44289738,  0.13309817,  0.4979489 ,  0.14644629,  0.46549013,\n",
              "         0.14132994,  0.37518668,  0.16108103]], dtype=float32)"
            ]
          },
          "metadata": {},
          "execution_count": 120
        }
      ]
    },
    {
      "cell_type": "code",
      "source": [
        "predictions=scaler.inverse_transform(predictions) \n",
        "y_test2=scaler.inverse_transform(y_test2)\n",
        "print(predictions)\n",
        "print(y_test2)"
      ],
      "metadata": {
        "colab": {
          "base_uri": "https://localhost:8080/"
        },
        "id": "Pb14FzUHKfnX",
        "outputId": "4dc61b29-afc5-4f70-bd05-9fef13c8a5e1"
      },
      "execution_count": 121,
      "outputs": [
        {
          "output_type": "stream",
          "name": "stdout",
          "text": [
            "[[ 7.1088824 23.995762   7.1109123 24.038315   7.1984415 24.023363\n",
            "   7.173767  24.003536   7.201448  24.020674   7.1844516 23.965385\n",
            "   7.1630225 24.00517    7.192502  23.970778   7.1863093 24.011007\n",
            "   7.1921206 24.01207    7.17236   23.995287   7.2495794 23.984201\n",
            "   7.204839  24.014685   7.246694  24.012575   7.1988826 23.975542\n",
            "   7.2228484 24.033619   7.2824335 23.96177    7.242281  23.978233\n",
            "   7.243031  24.020555   7.2772427 23.98448    7.273032  23.929457\n",
            "   7.2327623 23.985905   7.300074  23.997654   7.2647214 23.95506\n",
            "   7.2647924 23.989067   7.2569137 23.941591   7.2411065 23.970612\n",
            "   7.291917  23.97644    7.265644  23.963924   7.272156  23.982815\n",
            "   7.298015  24.002083   7.3033285 23.964676   7.289813  23.954815\n",
            "   7.2928815 24.011717   7.2864995 23.937992   7.2546825 23.989504\n",
            "   7.305222  23.980787   7.3170557 23.991573   7.3234496 23.95868\n",
            "   7.3168607 23.960798   7.3353786 23.96235    7.331893  23.947363\n",
            "   7.362225  23.997444   7.2690315 23.985634   7.3264713 24.035158\n",
            "   7.3424253 24.001575   7.309056  23.982912   7.3431416 24.00275\n",
            "   7.3542504 23.957933   7.2495456 23.943037   7.332355  24.007387\n",
            "   7.2718406 24.010733   7.4114943 24.012964   7.393501  24.037231\n",
            "   7.4351406 24.049074   7.3708906 24.03051    7.335767  24.013678\n",
            "   7.3439474 24.053413   7.3990507 24.005568   6.4903774 27.055326\n",
            "   6.453508  27.044302   6.329617  27.02254    6.411297  27.065239\n",
            "   6.423462  27.09848    6.4478683 27.036615   6.36569   27.084047\n",
            "   6.4588604 27.019733   6.4321256 27.02014    6.4365063 27.091898\n",
            "   6.439786  27.057135   6.315041  27.104465   6.437519  27.092033\n",
            "   6.505979  27.107985   6.3834023 27.132517   6.4805627 27.141556\n",
            "   6.41125   27.100716   6.543397  27.132011   6.440854  27.112556\n",
            "   6.557279  27.085224   6.4831276 27.086609   6.4428973 27.133099\n",
            "   6.497949  27.146446   6.4654903 27.14133    6.375187  27.161081 ]]\n",
            "[[ 7. 24.  7. 24.  7. 24.  7. 24.  7. 24.  7. 24.  7. 24.  7. 24.  7. 24.\n",
            "   7. 24.  7. 24.  7. 24.  7. 24.  7. 24.  7. 24.  7. 24.  7. 24.  7. 24.\n",
            "   7. 24.  7. 24.  7. 24.  7. 24.  7. 24.  7. 24.  7. 24.  7. 24.  7. 24.\n",
            "   7. 24.  7. 24.  7. 24.  7. 24.  7. 24.  7. 24.  7. 24.  7. 24.  7. 24.\n",
            "   7. 24.  7. 24.  7. 24.  7. 24.  7. 24.  7. 24.  7. 24.  7. 24.  7. 24.\n",
            "   7. 24.  7. 24.  7. 24.  7. 24.  7. 24.  7. 24.  7. 24.  7. 24.  7. 24.\n",
            "   7. 24.  7. 24.  7. 24.  7. 24.  7. 24.  6. 27.  6. 27.  6. 27.  6. 27.\n",
            "   6. 27.  6. 27.  6. 27.  6. 27.  6. 27.  6. 27.  6. 27.  6. 27.  6. 27.\n",
            "   6. 27.  6. 27.  6. 27.  6. 27.  6. 27.  6. 27.  6. 27.  6. 27.  6. 27.\n",
            "   6. 27.  6. 27.  6. 27.]]\n"
          ]
        }
      ]
    },
    {
      "cell_type": "code",
      "source": [
        "import os\n",
        "from datetime import datetime, timedelta\n",
        "\n",
        "nbrefois=1\n",
        "#Création du dossier des graphes\n",
        "now = datetime.now()\n",
        "directory=str('/gdrive/MyDrive/traitement_ordinaire/' +str( now.strftime((\"%d_%b_%Y_%H_%M\")) ) )\n",
        "if not os.path.exists(directory):\n",
        "    os.mkdir(directory)\n",
        "\n",
        "predictions=pd.DataFrame(predictions)\n",
        "y_test2=pd.DataFrame(y_test2)\n",
        "      \n",
        "predictionPH=pd.DataFrame()\n",
        "y_testPH=pd.DataFrame()\n",
        "predictionTemp=pd.DataFrame()\n",
        "y_testTemp=pd.DataFrame()\n",
        "\n",
        "if horizon==1:\n",
        "  lesdates= test_dates2.loc[:, test_dates2.columns.str.contains(\"DATE\\(t\\)\")]\n",
        "else:\n",
        "  #lesdates= test_dates2.loc[:, test_dates2.columns.str.contains(\"DATE\\(t\\+\"+str(horizon-1)+\"\\)\")] \n",
        "  lesdates= test_dates2.loc[:, test_dates2.columns.str.contains(\"DATE\\(t\\+|DATE\\(t\\)\")] \n",
        "\n",
        "\n",
        "print(\"y_test2\",y_test2.shape)\n",
        "\n",
        "for ii in range( y_test2.shape[1]):\n",
        "  if ii%2==0: #Pour séparer les températures des ph\n",
        "    predictionPH=pd.concat([predictionPH, predictions.iloc[:,ii]],axis=1)\n",
        "    y_testPH=pd.concat([y_testPH, y_test2.iloc[:,ii]],axis=1)\n",
        "  else:\n",
        "    predictionTemp=pd.concat([predictionTemp, predictions.iloc[:,ii]],axis=1)\n",
        "    y_testTemp=pd.concat([y_testTemp, y_test2.iloc[:,ii]],axis=1)\n",
        "\n",
        "\n",
        "testdf=pd.DataFrame(predictionTemp.values.reshape(-1),index=lesdates.values.reshape(-1))\n",
        "print(testdf.resample('30D').mean())\n",
        "testdf.resample('30D').mean().plot()\n",
        "\n",
        "directoryPredict=directory+\"/PredictionPlot/\"\n",
        "if not os.path.exists(directoryPredict):\n",
        "  os.mkdir(directoryPredict)\n",
        "\n",
        "# visualPrediction(\"PH\",lesdates.values.reshape(-1) ,y_testPH.iloc[:,horizon-1].values.reshape(-1),predictionPH.iloc[:,horizon-1].values.reshape(-1),\n",
        "#                  nb_obs,horizon,nbrefois,directoryPredict)\n",
        "# visualPrediction(\"TEMP\",lesdates.values.reshape(-1) ,y_testTemp.iloc[:,horizon-1].values.reshape(-1),predictionTemp.iloc[:,horizon-1].values.reshape(-1),\n",
        "# nb_obs,horizon,nbrefois,directoryPredict)\n",
        "\n",
        "visualPrediction(\"PH\",lesdates.values.reshape(-1) ,y_testPH.values.reshape(-1),predictionPH.values.reshape(-1),\n",
        "                  nb_obs,horizon,nbrefois,directoryPredict)\n",
        "visualPrediction(\"TEMP\",lesdates.values.reshape(-1) ,y_testTemp.values.reshape(-1),predictionTemp.values.reshape(-1),\n",
        "nb_obs,horizon,nbrefois,directoryPredict)\n",
        "\n",
        "        \n",
        "directoryCalibration=directory+\"/CalibrationPlot/\"\n",
        "if not os.path.exists(directoryCalibration):\n",
        "  os.mkdir(directoryCalibration)\n",
        "\n",
        "visualCalibrationPlot(\"PH\",y_testPH.values.reshape(-1)[len(y_test2)],predictionPH.values.reshape(-1)[len(y_test2)],nbrefois,directoryCalibration,lesdates.values.reshape(-1)[len(y_test2)])\n",
        "visualCalibrationPlot(\"TEMPERATURE\",y_testTemp.values.reshape(-1)[len(y_test2)],predictionTemp.values.reshape(-1)[len(y_test2)],nbrefois,directoryCalibration,lesdates.values.reshape(-1)[len(y_test2)])"
      ],
      "metadata": {
        "colab": {
          "base_uri": "https://localhost:8080/",
          "height": 1000
        },
        "id": "tpsr9iPsK4By",
        "outputId": "2b55986e-5e76-4595-9109-7a926d3248c0"
      },
      "execution_count": 122,
      "outputs": [
        {
          "output_type": "stream",
          "name": "stdout",
          "text": [
            "y_test2 (1, 168)\n",
            "                0\n",
            "2017-01-01 23.990\n",
            "2017-01-31 24.095\n",
            "2017-03-02 27.092\n"
          ]
        },
        {
          "output_type": "display_data",
          "data": {
            "text/plain": [
              "<Figure size 432x288 with 1 Axes>"
            ],
            "image/png": "[encoded data removed]"
          },
          "metadata": {
            "needs_background": "light"
          }
        },
        {
          "output_type": "display_data",
          "data": {
            "text/plain": [
              "<Figure size 1080x432 with 1 Axes>"
            ],
            "image/png": "[encoded data removed]"
          },
          "metadata": {
            "needs_background": "light"
          }
        },
        {
          "output_type": "display_data",
          "data": {
            "text/plain": [
              "<Figure size 1080x432 with 1 Axes>"
            ],
            "image/png": "[encoded data removed]"
          },
          "metadata": {
            "needs_background": "light"
          }
        },
        {
          "output_type": "display_data",
          "data": {
            "text/plain": [
              "<Figure size 1080x432 with 1 Axes>"
            ],
            "image/png": "[encoded data removed]"
          },
          "metadata": {
            "needs_background": "light"
          }
        },
        {
          "output_type": "stream",
          "name": "stderr",
          "text": [
            "No handles with labels found to put in legend.\n"
          ]
        },
        {
          "output_type": "display_data",
          "data": {
            "text/plain": [
              "<Figure size 1080x432 with 1 Axes>"
            ],
            "image/png": "[encoded data removed]"
          },
          "metadata": {
            "needs_background": "light"
          }
        },
        {
          "output_type": "stream",
          "name": "stderr",
          "text": [
            "No handles with labels found to put in legend.\n"
          ]
        }
      ]
    },
    {
      "cell_type": "code",
      "source": [
        "from sklearn.metrics import mean_squared_error, median_absolute_error, mean_absolute_error, r2_score\n",
        "from math import sqrt \n",
        "\n",
        "#Calcul des métriques\n",
        "rmse = sqrt(mean_squared_error(predictions, y_test2))\n",
        "mae = mean_absolute_error(predictions, y_test2)\n",
        "r2=r2_score(predictions, y_test2)\n",
        "print(\"rmse=\",rmse)\n",
        "print(\"mae=\",mae)\n",
        "print(\"r2=\",r2)\n"
      ],
      "metadata": {
        "colab": {
          "base_uri": "https://localhost:8080/"
        },
        "id": "fP-kvFZROywo",
        "outputId": "1c175e0e-d3ad-48ad-9b4f-5c767f9abb36"
      },
      "execution_count": null,
      "outputs": [
        {
          "output_type": "stream",
          "name": "stdout",
          "text": [
            "rmse= 0.24395752600896087\n",
            "mae= 0.18435982863108316\n",
            "r2= nan\n"
          ]
        },
        {
          "output_type": "stream",
          "name": "stderr",
          "text": [
            "/usr/local/lib/python3.7/dist-packages/sklearn/metrics/_regression.py:796: UndefinedMetricWarning: R^2 score is not well-defined with less than two samples.\n",
            "  warnings.warn(msg, UndefinedMetricWarning)\n"
          ]
        }
      ]
    }
  ],
  "metadata": {
    "accelerator": "GPU",
    "colab": {
      "collapsed_sections": [],
      "name": "evaluationModel.ipynb",
      "provenance": [],
      "include_colab_link": true
    },
    "kernelspec": {
      "display_name": "Python 3",
      "language": "python",
      "name": "python3"
    },
    "language_info": {
      "codemirror_mode": {
        "name": "ipython",
        "version": 3
      },
      "file_extension": ".py",
      "mimetype": "text/x-python",
      "name": "python",
      "nbconvert_exporter": "python",
      "pygments_lexer": "ipython3",
      "version": "3.7.3"
    }
  },
  "nbformat": 4,
  "nbformat_minor": 0
}